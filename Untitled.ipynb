{
 "cells": [
  {
   "cell_type": "code",
   "execution_count": 6,
   "id": "43196f59",
   "metadata": {},
   "outputs": [],
   "source": [
    "import pandas as pd\n",
    "import matplotlib.pyplot as plt\n",
    "dict={'date':['1-2-12','3-4-22','22-5-12','13-6-19'],\n",
    "      'price':[20,85,785,800],\n",
    "      'product_id':[10,20,30,40],\n",
    "      'quantity_purchased':[12,10,2,5],\n",
    "      'serial_no':['s1','s2','s3','s4'],\n",
    "      'user_id':['u1','u2','u3','u4'],\n",
    "      'user_type':['m','s','a','u'],\n",
    "      'user_class':['low','mid','mid','up'],\n",
    "      'pur_week':['mon','wed','thur','fri'],}"
   ]
  },
  {
   "cell_type": "code",
   "execution_count": 8,
   "id": "74b36831",
   "metadata": {},
   "outputs": [
    {
     "name": "stdout",
     "output_type": "stream",
     "text": [
      "      date  price  product_id  quantity_purchased serial_no user_id user_type  \\\n",
      "0   1-2-12     20          10                  12        s1      u1         m   \n",
      "1   3-4-22     85          20                  10        s2      u2         s   \n",
      "2  22-5-12    785          30                   2        s3      u3         a   \n",
      "3  13-6-19    800          40                   5        s4      u4         u   \n",
      "\n",
      "  user_class pur_week  \n",
      "0        low      mon  \n",
      "1        mid      wed  \n",
      "2        mid     thur  \n",
      "3         up      fri  \n"
     ]
    }
   ],
   "source": [
    "df=pd.DataFrame(dict)\n",
    "df.to_csv(\"market.csv\")\n",
    "df.head()\n",
    "print(df)"
   ]
  },
  {
   "cell_type": "code",
   "execution_count": 11,
   "id": "4f2ed94d",
   "metadata": {},
   "outputs": [
    {
     "name": "stdout",
     "output_type": "stream",
     "text": [
      "          date       price  product_id  quantity_purchased serial_no user_id  \\\n",
      "count        4    4.000000    4.000000            4.000000         4       4   \n",
      "unique       4         NaN         NaN                 NaN         4       4   \n",
      "top     1-2-12         NaN         NaN                 NaN        s1      u1   \n",
      "freq         1         NaN         NaN                 NaN         1       1   \n",
      "mean       NaN  422.500000   25.000000            7.250000       NaN     NaN   \n",
      "std        NaN  428.106295   12.909944            4.573474       NaN     NaN   \n",
      "min        NaN   20.000000   10.000000            2.000000       NaN     NaN   \n",
      "25%        NaN   68.750000   17.500000            4.250000       NaN     NaN   \n",
      "50%        NaN  435.000000   25.000000            7.500000       NaN     NaN   \n",
      "75%        NaN  788.750000   32.500000           10.500000       NaN     NaN   \n",
      "max        NaN  800.000000   40.000000           12.000000       NaN     NaN   \n",
      "\n",
      "       user_type user_class pur_week  \n",
      "count          4          4        4  \n",
      "unique         4          3        4  \n",
      "top            m        mid      mon  \n",
      "freq           1          2        1  \n",
      "mean         NaN        NaN      NaN  \n",
      "std          NaN        NaN      NaN  \n",
      "min          NaN        NaN      NaN  \n",
      "25%          NaN        NaN      NaN  \n",
      "50%          NaN        NaN      NaN  \n",
      "75%          NaN        NaN      NaN  \n",
      "max          NaN        NaN      NaN  \n"
     ]
    }
   ],
   "source": [
    "stats=df.describe(include='all')\n",
    "print(stats)"
   ]
  },
  {
   "cell_type": "code",
   "execution_count": 13,
   "id": "a1cb0d16",
   "metadata": {},
   "outputs": [
    {
     "data": {
      "image/png": "[encoded data removed]",
      "text/plain": [
       "<Figure size 432x288 with 1 Axes>"
      ]
     },
     "metadata": {
      "needs_background": "light"
     },
     "output_type": "display_data"
    }
   ],
   "source": [
    "df.plot(x='user_id',y='quantity_purchased',kind='line')\n",
    "plt.show()"
   ]
  },
  {
   "cell_type": "code",
   "execution_count": 14,
   "id": "c958546e",
   "metadata": {},
   "outputs": [
    {
     "data": {
      "image/png": "[encoded data removed]",
      "text/plain": [
       "<Figure size 432x288 with 1 Axes>"
      ]
     },
     "metadata": {
      "needs_background": "light"
     },
     "output_type": "display_data"
    }
   ],
   "source": [
    "df[['user_class','price']].plot.box()\n",
    "plt.title('user class and price distribution')\n",
    "plt.show()"
   ]
  }
 ],
 "metadata": {
  "kernelspec": {
   "display_name": "Python 3 (ipykernel)",
   "language": "python",
   "name": "python3"
  },
  "language_info": {
   "codemirror_mode": {
    "name": "ipython",
    "version": 3
   },
   "file_extension": ".py",
   "mimetype": "text/x-python",
   "name": "python",
   "nbconvert_exporter": "python",
   "pygments_lexer": "ipython3",
   "version": "3.10.6"
  }
 },
 "nbformat": 4,
 "nbformat_minor": 5
}
